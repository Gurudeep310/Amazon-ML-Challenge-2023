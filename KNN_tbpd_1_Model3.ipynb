{
 "cells": [
  {
   "cell_type": "code",
   "execution_count": 1,
   "id": "c7079f1b",
   "metadata": {},
   "outputs": [],
   "source": [
    "import os\n",
    "import time\n",
    "import pandas as pd\n",
    "import numpy as np\n",
    "import re\n",
    "import matplotlib.pyplot as plt\n",
    "import nltk\n",
    "from nltk.corpus import stopwords\n",
    "from nltk.tokenize import word_tokenize\n",
    "import pandas as pd\n",
    "import time"
   ]
  },
  {
   "cell_type": "code",
   "execution_count": 2,
   "id": "d9393d4e",
   "metadata": {},
   "outputs": [],
   "source": [
    "df_train = pd.read_csv('train_lemmatized_sw.csv')"
   ]
  },
  {
   "cell_type": "code",
   "execution_count": 3,
   "id": "9c830ca7",
   "metadata": {},
   "outputs": [
    {
     "data": {
      "text/plain": [
       "Index(['Unnamed: 0.1', 'Unnamed: 0', 'PRODUCT_ID', 'TITLE', 'BULLET_POINTS',\n",
       "       'DESCRIPTION', 'PRODUCT_TYPE_ID', 'PRODUCT_LENGTH', 'T_BP', 'T_BP_D',\n",
       "       'T_D', 'F1'],\n",
       "      dtype='object')"
      ]
     },
     "execution_count": 3,
     "metadata": {},
     "output_type": "execute_result"
    }
   ],
   "source": [
    "df_train.columns"
   ]
  },
  {
   "cell_type": "code",
   "execution_count": 4,
   "id": "83ee4769",
   "metadata": {},
   "outputs": [],
   "source": [
    "del df_train['Unnamed: 0']\n",
    "del df_train['Unnamed: 0.1']\n",
    "del df_train['F1']"
   ]
  },
  {
   "cell_type": "code",
   "execution_count": 5,
   "id": "7c2dd8a6",
   "metadata": {},
   "outputs": [],
   "source": [
    "df_test = pd.read_csv('test_processed.csv')"
   ]
  },
  {
   "cell_type": "code",
   "execution_count": 6,
   "id": "f4822a1e",
   "metadata": {},
   "outputs": [
    {
     "data": {
      "text/plain": [
       "Index(['Unnamed: 0', 'PRODUCT_ID', 'TITLE', 'BULLET_POINTS', 'DESCRIPTION',\n",
       "       'PRODUCT_TYPE_ID', 'T_BP', 'T_BP_D', 'T_D'],\n",
       "      dtype='object')"
      ]
     },
     "execution_count": 6,
     "metadata": {},
     "output_type": "execute_result"
    }
   ],
   "source": [
    "df_test.columns"
   ]
  },
  {
   "cell_type": "code",
   "execution_count": 7,
   "id": "82b3fb94",
   "metadata": {},
   "outputs": [],
   "source": [
    "del df_test['Unnamed: 0']"
   ]
  },
  {
   "cell_type": "code",
   "execution_count": 8,
   "id": "72166c01",
   "metadata": {},
   "outputs": [],
   "source": [
    "df_train[\"T_BP_D\"].replace(np.nan, \"\", inplace=True)"
   ]
  },
  {
   "cell_type": "code",
   "execution_count": 9,
   "id": "aeca8973",
   "metadata": {},
   "outputs": [
    {
     "data": {
      "text/plain": [
       "0"
      ]
     },
     "execution_count": 9,
     "metadata": {},
     "output_type": "execute_result"
    }
   ],
   "source": [
    "df_train['T_BP_D'].isna().sum()\n"
   ]
  },
  {
   "cell_type": "code",
   "execution_count": 10,
   "id": "78842836",
   "metadata": {},
   "outputs": [],
   "source": [
    "import pandas as pd\n",
    "from sklearn.utils import resample\n",
    "\n",
    "# Load the dataset\n",
    "\n",
    "# Separate the column with 19k entries\n",
    "col = df_train['T_BP_D']\n",
    "\n",
    "# Sample 50% of the column while preserving the distribution\n",
    "sampled_col = resample(col, n_samples=0.01*len(col), random_state=25, stratify=col)\n",
    "\n",
    "# Get the indices of the sampled entries\n",
    "indices = sampled_col.index\n",
    "\n",
    "# Sample the original dataframe based on the indices\n",
    "sampled_df = df_train.loc[indices]"
   ]
  },
  {
   "cell_type": "code",
   "execution_count": 11,
   "id": "02d3982d",
   "metadata": {},
   "outputs": [],
   "source": [
    "df_train = sampled_df.copy()"
   ]
  },
  {
   "cell_type": "code",
   "execution_count": 13,
   "id": "382bc05b",
   "metadata": {},
   "outputs": [
    {
     "data": {
      "text/plain": [
       "(22496, 9)"
      ]
     },
     "execution_count": 13,
     "metadata": {},
     "output_type": "execute_result"
    }
   ],
   "source": [
    "df_train.shape"
   ]
  },
  {
   "cell_type": "code",
   "execution_count": 14,
   "id": "c7d8ccd5",
   "metadata": {},
   "outputs": [],
   "source": [
    "y = df_train['PRODUCT_LENGTH']"
   ]
  },
  {
   "cell_type": "code",
   "execution_count": 15,
   "id": "a3795ee1",
   "metadata": {},
   "outputs": [
    {
     "data": {
      "text/plain": [
       "(734736, 8)"
      ]
     },
     "execution_count": 15,
     "metadata": {},
     "output_type": "execute_result"
    }
   ],
   "source": [
    "df_test.shape"
   ]
  },
  {
   "cell_type": "code",
   "execution_count": 16,
   "id": "a16ee87e",
   "metadata": {},
   "outputs": [
    {
     "data": {
      "text/plain": [
       "0"
      ]
     },
     "execution_count": 16,
     "metadata": {},
     "output_type": "execute_result"
    }
   ],
   "source": [
    "df_train['T_BP_D'].isna().sum()\n"
   ]
  },
  {
   "cell_type": "code",
   "execution_count": 17,
   "id": "860ed8e8",
   "metadata": {},
   "outputs": [],
   "source": [
    "X_train1 = df_train.copy()"
   ]
  },
  {
   "cell_type": "code",
   "execution_count": 18,
   "id": "a7def957",
   "metadata": {},
   "outputs": [
    {
     "data": {
      "text/plain": [
       "((22496, 9), (734736, 8))"
      ]
     },
     "execution_count": 18,
     "metadata": {},
     "output_type": "execute_result"
    }
   ],
   "source": [
    "X_train1.shape, df_test.shape"
   ]
  },
  {
   "cell_type": "code",
   "execution_count": 19,
   "id": "ba2fd1ec",
   "metadata": {},
   "outputs": [],
   "source": [
    "X_test1 = df_test.copy()"
   ]
  },
  {
   "cell_type": "code",
   "execution_count": 20,
   "id": "3575d18c",
   "metadata": {},
   "outputs": [
    {
     "name": "stdout",
     "output_type": "stream",
     "text": [
      "0.13240677913029988 mins\n"
     ]
    }
   ],
   "source": [
    "from sklearn.feature_extraction.text import TfidfVectorizer\n",
    "\n",
    "# Create an instance of TfidfVectorizer\n",
    "\n",
    "s = time.time()\n",
    "vectorizer = TfidfVectorizer(lowercase = True, max_features=20000, stop_words='english', ngram_range=(1,4))\n",
    "\n",
    "X_train1_tbpd_tfidf = vectorizer.fit_transform(X_train1['T_BP_D'])\n",
    "# X_test1_tbpd_tfidf = vectorizer.transform(X_test1['T_BP_D'])\n",
    "\n",
    "\n",
    "e = time.time()\n",
    "\n",
    "print(str((e-s)/60) + \" mins\")\n"
   ]
  },
  {
   "cell_type": "code",
   "execution_count": 21,
   "id": "4fb27e38",
   "metadata": {},
   "outputs": [],
   "source": [
    "X_train1_tbpd_tfidf = X_train1_tbpd_tfidf.toarray()"
   ]
  },
  {
   "cell_type": "code",
   "execution_count": 22,
   "id": "e68c4ab5",
   "metadata": {},
   "outputs": [],
   "source": [
    "from sklearn.decomposition import PCA, KernelPCA\n",
    "from sklearn.feature_extraction.text import TfidfVectorizer\n",
    "from sklearn.neighbors import KNeighborsRegressor\n",
    "from sklearn.pipeline import Pipeline\n",
    "from sklearn.model_selection import train_test_split\n",
    "from sklearn.metrics import mean_squared_error\n",
    "import pandas as pd"
   ]
  },
  {
   "cell_type": "code",
   "execution_count": 23,
   "id": "0838015f",
   "metadata": {},
   "outputs": [
    {
     "name": "stdout",
     "output_type": "stream",
     "text": [
      "Explained Variance Ratio (Normal PCA):  [3.26063187e-02 7.86715946e-03 7.00653403e-03 ... 1.05473748e-05\n",
      " 1.05338943e-05 1.04999483e-05]\n",
      "5.354553016026815 mins\n"
     ]
    }
   ],
   "source": [
    "s = time.time()\n",
    "\n",
    "pca = PCA(n_components = 5000)\n",
    "X_pca_tbpd = pca.fit_transform(X_train1_tbpd_tfidf)\n",
    "# X_pca_tbpd_test = pca.transform(X_test1_tbpd_tfidf)\n",
    "\n",
    "\n",
    "# Print the explained variance ratio for normal PCA\n",
    "print(\"Explained Variance Ratio (Normal PCA): \", pca.explained_variance_ratio_)\n",
    "e = time.time()\n",
    "print(str((e-s)/60) + \" mins\")"
   ]
  },
  {
   "cell_type": "code",
   "execution_count": 24,
   "id": "8728487a",
   "metadata": {},
   "outputs": [
    {
     "data": {
      "text/plain": [
       "0.9855253102232971"
      ]
     },
     "execution_count": 24,
     "metadata": {},
     "output_type": "execute_result"
    }
   ],
   "source": [
    "sum(pca.explained_variance_ratio_)"
   ]
  },
  {
   "cell_type": "code",
   "execution_count": 25,
   "id": "bdd0f1e1",
   "metadata": {},
   "outputs": [],
   "source": [
    "X_pca_tbpd = pd.DataFrame(X_pca_tbpd)"
   ]
  },
  {
   "cell_type": "code",
   "execution_count": 26,
   "id": "d4b40c53",
   "metadata": {},
   "outputs": [],
   "source": [
    "product_ids = X_train1['PRODUCT_TYPE_ID']"
   ]
  },
  {
   "cell_type": "code",
   "execution_count": 27,
   "id": "b3a7530c",
   "metadata": {},
   "outputs": [],
   "source": [
    "product_ids = pd.DataFrame(product_ids)"
   ]
  },
  {
   "cell_type": "code",
   "execution_count": 28,
   "id": "5540e2de",
   "metadata": {},
   "outputs": [],
   "source": [
    "final_df = pd.DataFrame(X_pca_tbpd)"
   ]
  },
  {
   "cell_type": "code",
   "execution_count": 29,
   "id": "a9874c21",
   "metadata": {},
   "outputs": [],
   "source": [
    "pro_df = pd.DataFrame(product_ids)"
   ]
  },
  {
   "cell_type": "code",
   "execution_count": 30,
   "id": "f966f567",
   "metadata": {},
   "outputs": [
    {
     "data": {
      "text/plain": [
       "((22496, 5000), (22496, 1))"
      ]
     },
     "execution_count": 30,
     "metadata": {},
     "output_type": "execute_result"
    }
   ],
   "source": [
    "final_df.shape, pro_df.shape"
   ]
  },
  {
   "cell_type": "code",
   "execution_count": 31,
   "id": "b8b499ee",
   "metadata": {},
   "outputs": [],
   "source": [
    "pro_df = pro_df.reset_index()"
   ]
  },
  {
   "cell_type": "code",
   "execution_count": 32,
   "id": "6eb6e83d",
   "metadata": {},
   "outputs": [],
   "source": [
    "df= pd.concat([final_df, pro_df], axis = 1)"
   ]
  },
  {
   "cell_type": "code",
   "execution_count": 33,
   "id": "b56999e2",
   "metadata": {},
   "outputs": [],
   "source": [
    "del df['index']"
   ]
  },
  {
   "cell_type": "code",
   "execution_count": 34,
   "id": "73c4994d",
   "metadata": {},
   "outputs": [
    {
     "data": {
      "text/plain": [
       "(22496, 5001)"
      ]
     },
     "execution_count": 34,
     "metadata": {},
     "output_type": "execute_result"
    }
   ],
   "source": [
    "df.shape"
   ]
  },
  {
   "cell_type": "code",
   "execution_count": 35,
   "id": "668cdb80",
   "metadata": {},
   "outputs": [
    {
     "data": {
      "text/html": [
       "<div>\n",
       "<style scoped>\n",
       "    .dataframe tbody tr th:only-of-type {\n",
       "        vertical-align: middle;\n",
       "    }\n",
       "\n",
       "    .dataframe tbody tr th {\n",
       "        vertical-align: top;\n",
       "    }\n",
       "\n",
       "    .dataframe thead th {\n",
       "        text-align: right;\n",
       "    }\n",
       "</style>\n",
       "<table border=\"1\" class=\"dataframe\">\n",
       "  <thead>\n",
       "    <tr style=\"text-align: right;\">\n",
       "      <th></th>\n",
       "      <th>0</th>\n",
       "      <th>1</th>\n",
       "      <th>2</th>\n",
       "      <th>3</th>\n",
       "      <th>4</th>\n",
       "      <th>5</th>\n",
       "      <th>6</th>\n",
       "      <th>7</th>\n",
       "      <th>8</th>\n",
       "      <th>9</th>\n",
       "      <th>...</th>\n",
       "      <th>4991</th>\n",
       "      <th>4992</th>\n",
       "      <th>4993</th>\n",
       "      <th>4994</th>\n",
       "      <th>4995</th>\n",
       "      <th>4996</th>\n",
       "      <th>4997</th>\n",
       "      <th>4998</th>\n",
       "      <th>4999</th>\n",
       "      <th>PRODUCT_TYPE_ID</th>\n",
       "    </tr>\n",
       "  </thead>\n",
       "  <tbody>\n",
       "    <tr>\n",
       "      <th>0</th>\n",
       "      <td>-0.043986</td>\n",
       "      <td>0.051683</td>\n",
       "      <td>-0.008200</td>\n",
       "      <td>-0.051956</td>\n",
       "      <td>-0.014786</td>\n",
       "      <td>-0.000243</td>\n",
       "      <td>-0.001790</td>\n",
       "      <td>-0.001364</td>\n",
       "      <td>0.029117</td>\n",
       "      <td>-0.014011</td>\n",
       "      <td>...</td>\n",
       "      <td>-0.007031</td>\n",
       "      <td>-0.004286</td>\n",
       "      <td>-0.006974</td>\n",
       "      <td>-0.000975</td>\n",
       "      <td>0.013666</td>\n",
       "      <td>0.004034</td>\n",
       "      <td>0.005914</td>\n",
       "      <td>-0.001805</td>\n",
       "      <td>0.012241</td>\n",
       "      <td>5994</td>\n",
       "    </tr>\n",
       "    <tr>\n",
       "      <th>1</th>\n",
       "      <td>-0.045049</td>\n",
       "      <td>-0.033840</td>\n",
       "      <td>-0.008355</td>\n",
       "      <td>0.017111</td>\n",
       "      <td>0.015382</td>\n",
       "      <td>-0.006532</td>\n",
       "      <td>-0.012247</td>\n",
       "      <td>-0.012043</td>\n",
       "      <td>-0.006017</td>\n",
       "      <td>-0.004784</td>\n",
       "      <td>...</td>\n",
       "      <td>-0.000087</td>\n",
       "      <td>-0.001447</td>\n",
       "      <td>-0.000091</td>\n",
       "      <td>-0.000304</td>\n",
       "      <td>-0.000094</td>\n",
       "      <td>-0.002118</td>\n",
       "      <td>-0.000345</td>\n",
       "      <td>0.000612</td>\n",
       "      <td>-0.002070</td>\n",
       "      <td>804</td>\n",
       "    </tr>\n",
       "    <tr>\n",
       "      <th>2</th>\n",
       "      <td>-0.036866</td>\n",
       "      <td>0.049976</td>\n",
       "      <td>-0.004286</td>\n",
       "      <td>-0.001697</td>\n",
       "      <td>0.001895</td>\n",
       "      <td>-0.003446</td>\n",
       "      <td>-0.000067</td>\n",
       "      <td>-0.011159</td>\n",
       "      <td>0.024914</td>\n",
       "      <td>-0.025028</td>\n",
       "      <td>...</td>\n",
       "      <td>-0.002069</td>\n",
       "      <td>0.000926</td>\n",
       "      <td>-0.000549</td>\n",
       "      <td>-0.002351</td>\n",
       "      <td>0.000141</td>\n",
       "      <td>-0.002734</td>\n",
       "      <td>0.000260</td>\n",
       "      <td>-0.001680</td>\n",
       "      <td>-0.000574</td>\n",
       "      <td>1171</td>\n",
       "    </tr>\n",
       "    <tr>\n",
       "      <th>3</th>\n",
       "      <td>-0.047037</td>\n",
       "      <td>0.066503</td>\n",
       "      <td>-0.031362</td>\n",
       "      <td>-0.059729</td>\n",
       "      <td>-0.008454</td>\n",
       "      <td>0.005194</td>\n",
       "      <td>-0.007336</td>\n",
       "      <td>0.005672</td>\n",
       "      <td>-0.200506</td>\n",
       "      <td>0.116161</td>\n",
       "      <td>...</td>\n",
       "      <td>0.000806</td>\n",
       "      <td>-0.003967</td>\n",
       "      <td>0.003197</td>\n",
       "      <td>-0.000829</td>\n",
       "      <td>0.007040</td>\n",
       "      <td>0.006401</td>\n",
       "      <td>0.006144</td>\n",
       "      <td>0.002372</td>\n",
       "      <td>0.013057</td>\n",
       "      <td>3246</td>\n",
       "    </tr>\n",
       "    <tr>\n",
       "      <th>4</th>\n",
       "      <td>-0.045081</td>\n",
       "      <td>-0.058556</td>\n",
       "      <td>0.003661</td>\n",
       "      <td>0.002485</td>\n",
       "      <td>-0.000257</td>\n",
       "      <td>-0.011659</td>\n",
       "      <td>-0.004318</td>\n",
       "      <td>-0.020943</td>\n",
       "      <td>-0.008545</td>\n",
       "      <td>-0.004072</td>\n",
       "      <td>...</td>\n",
       "      <td>0.000352</td>\n",
       "      <td>0.000239</td>\n",
       "      <td>0.000008</td>\n",
       "      <td>0.000055</td>\n",
       "      <td>-0.000181</td>\n",
       "      <td>0.000282</td>\n",
       "      <td>-0.000277</td>\n",
       "      <td>-0.000059</td>\n",
       "      <td>0.000134</td>\n",
       "      <td>811</td>\n",
       "    </tr>\n",
       "    <tr>\n",
       "      <th>...</th>\n",
       "      <td>...</td>\n",
       "      <td>...</td>\n",
       "      <td>...</td>\n",
       "      <td>...</td>\n",
       "      <td>...</td>\n",
       "      <td>...</td>\n",
       "      <td>...</td>\n",
       "      <td>...</td>\n",
       "      <td>...</td>\n",
       "      <td>...</td>\n",
       "      <td>...</td>\n",
       "      <td>...</td>\n",
       "      <td>...</td>\n",
       "      <td>...</td>\n",
       "      <td>...</td>\n",
       "      <td>...</td>\n",
       "      <td>...</td>\n",
       "      <td>...</td>\n",
       "      <td>...</td>\n",
       "      <td>...</td>\n",
       "      <td>...</td>\n",
       "    </tr>\n",
       "    <tr>\n",
       "      <th>22491</th>\n",
       "      <td>-0.047452</td>\n",
       "      <td>-0.069034</td>\n",
       "      <td>0.003434</td>\n",
       "      <td>0.001012</td>\n",
       "      <td>-0.001112</td>\n",
       "      <td>-0.017312</td>\n",
       "      <td>-0.008214</td>\n",
       "      <td>-0.028033</td>\n",
       "      <td>-0.004921</td>\n",
       "      <td>0.000813</td>\n",
       "      <td>...</td>\n",
       "      <td>0.000113</td>\n",
       "      <td>-0.000092</td>\n",
       "      <td>-0.000482</td>\n",
       "      <td>0.001032</td>\n",
       "      <td>-0.000234</td>\n",
       "      <td>0.001017</td>\n",
       "      <td>0.000410</td>\n",
       "      <td>0.000051</td>\n",
       "      <td>-0.000445</td>\n",
       "      <td>6104</td>\n",
       "    </tr>\n",
       "    <tr>\n",
       "      <th>22492</th>\n",
       "      <td>-0.055282</td>\n",
       "      <td>0.218711</td>\n",
       "      <td>0.687797</td>\n",
       "      <td>0.210664</td>\n",
       "      <td>-0.021048</td>\n",
       "      <td>0.018539</td>\n",
       "      <td>-0.017403</td>\n",
       "      <td>0.024334</td>\n",
       "      <td>-0.032950</td>\n",
       "      <td>0.038129</td>\n",
       "      <td>...</td>\n",
       "      <td>-0.000163</td>\n",
       "      <td>0.000734</td>\n",
       "      <td>0.000177</td>\n",
       "      <td>0.000631</td>\n",
       "      <td>-0.003204</td>\n",
       "      <td>0.000184</td>\n",
       "      <td>0.000737</td>\n",
       "      <td>0.001838</td>\n",
       "      <td>-0.002770</td>\n",
       "      <td>1634</td>\n",
       "    </tr>\n",
       "    <tr>\n",
       "      <th>22493</th>\n",
       "      <td>0.746341</td>\n",
       "      <td>-0.008986</td>\n",
       "      <td>0.021434</td>\n",
       "      <td>-0.046357</td>\n",
       "      <td>-0.066863</td>\n",
       "      <td>-0.006858</td>\n",
       "      <td>0.015374</td>\n",
       "      <td>0.006129</td>\n",
       "      <td>0.010973</td>\n",
       "      <td>-0.001694</td>\n",
       "      <td>...</td>\n",
       "      <td>0.000332</td>\n",
       "      <td>0.000026</td>\n",
       "      <td>0.000070</td>\n",
       "      <td>0.000301</td>\n",
       "      <td>-0.000163</td>\n",
       "      <td>0.000508</td>\n",
       "      <td>0.000022</td>\n",
       "      <td>0.000022</td>\n",
       "      <td>-0.000122</td>\n",
       "      <td>12064</td>\n",
       "    </tr>\n",
       "    <tr>\n",
       "      <th>22494</th>\n",
       "      <td>-0.053639</td>\n",
       "      <td>0.172922</td>\n",
       "      <td>0.491914</td>\n",
       "      <td>0.141445</td>\n",
       "      <td>-0.016435</td>\n",
       "      <td>0.013524</td>\n",
       "      <td>-0.013128</td>\n",
       "      <td>0.009651</td>\n",
       "      <td>0.002744</td>\n",
       "      <td>0.002430</td>\n",
       "      <td>...</td>\n",
       "      <td>-0.001021</td>\n",
       "      <td>0.004640</td>\n",
       "      <td>-0.000209</td>\n",
       "      <td>0.004398</td>\n",
       "      <td>-0.012664</td>\n",
       "      <td>0.003449</td>\n",
       "      <td>-0.001069</td>\n",
       "      <td>0.003691</td>\n",
       "      <td>-0.005105</td>\n",
       "      <td>1634</td>\n",
       "    </tr>\n",
       "    <tr>\n",
       "      <th>22495</th>\n",
       "      <td>-0.044613</td>\n",
       "      <td>-0.053407</td>\n",
       "      <td>0.001529</td>\n",
       "      <td>0.007262</td>\n",
       "      <td>-0.000996</td>\n",
       "      <td>-0.005593</td>\n",
       "      <td>-0.005463</td>\n",
       "      <td>-0.019920</td>\n",
       "      <td>-0.008284</td>\n",
       "      <td>-0.013780</td>\n",
       "      <td>...</td>\n",
       "      <td>0.001035</td>\n",
       "      <td>-0.000418</td>\n",
       "      <td>0.004337</td>\n",
       "      <td>-0.003766</td>\n",
       "      <td>-0.003609</td>\n",
       "      <td>-0.001094</td>\n",
       "      <td>-0.006045</td>\n",
       "      <td>-0.014445</td>\n",
       "      <td>0.001031</td>\n",
       "      <td>6175</td>\n",
       "    </tr>\n",
       "  </tbody>\n",
       "</table>\n",
       "<p>22496 rows × 5001 columns</p>\n",
       "</div>"
      ],
      "text/plain": [
       "              0         1         2         3         4         5         6  \\\n",
       "0     -0.043986  0.051683 -0.008200 -0.051956 -0.014786 -0.000243 -0.001790   \n",
       "1     -0.045049 -0.033840 -0.008355  0.017111  0.015382 -0.006532 -0.012247   \n",
       "2     -0.036866  0.049976 -0.004286 -0.001697  0.001895 -0.003446 -0.000067   \n",
       "3     -0.047037  0.066503 -0.031362 -0.059729 -0.008454  0.005194 -0.007336   \n",
       "4     -0.045081 -0.058556  0.003661  0.002485 -0.000257 -0.011659 -0.004318   \n",
       "...         ...       ...       ...       ...       ...       ...       ...   \n",
       "22491 -0.047452 -0.069034  0.003434  0.001012 -0.001112 -0.017312 -0.008214   \n",
       "22492 -0.055282  0.218711  0.687797  0.210664 -0.021048  0.018539 -0.017403   \n",
       "22493  0.746341 -0.008986  0.021434 -0.046357 -0.066863 -0.006858  0.015374   \n",
       "22494 -0.053639  0.172922  0.491914  0.141445 -0.016435  0.013524 -0.013128   \n",
       "22495 -0.044613 -0.053407  0.001529  0.007262 -0.000996 -0.005593 -0.005463   \n",
       "\n",
       "              7         8         9  ...      4991      4992      4993  \\\n",
       "0     -0.001364  0.029117 -0.014011  ... -0.007031 -0.004286 -0.006974   \n",
       "1     -0.012043 -0.006017 -0.004784  ... -0.000087 -0.001447 -0.000091   \n",
       "2     -0.011159  0.024914 -0.025028  ... -0.002069  0.000926 -0.000549   \n",
       "3      0.005672 -0.200506  0.116161  ...  0.000806 -0.003967  0.003197   \n",
       "4     -0.020943 -0.008545 -0.004072  ...  0.000352  0.000239  0.000008   \n",
       "...         ...       ...       ...  ...       ...       ...       ...   \n",
       "22491 -0.028033 -0.004921  0.000813  ...  0.000113 -0.000092 -0.000482   \n",
       "22492  0.024334 -0.032950  0.038129  ... -0.000163  0.000734  0.000177   \n",
       "22493  0.006129  0.010973 -0.001694  ...  0.000332  0.000026  0.000070   \n",
       "22494  0.009651  0.002744  0.002430  ... -0.001021  0.004640 -0.000209   \n",
       "22495 -0.019920 -0.008284 -0.013780  ...  0.001035 -0.000418  0.004337   \n",
       "\n",
       "           4994      4995      4996      4997      4998      4999  \\\n",
       "0     -0.000975  0.013666  0.004034  0.005914 -0.001805  0.012241   \n",
       "1     -0.000304 -0.000094 -0.002118 -0.000345  0.000612 -0.002070   \n",
       "2     -0.002351  0.000141 -0.002734  0.000260 -0.001680 -0.000574   \n",
       "3     -0.000829  0.007040  0.006401  0.006144  0.002372  0.013057   \n",
       "4      0.000055 -0.000181  0.000282 -0.000277 -0.000059  0.000134   \n",
       "...         ...       ...       ...       ...       ...       ...   \n",
       "22491  0.001032 -0.000234  0.001017  0.000410  0.000051 -0.000445   \n",
       "22492  0.000631 -0.003204  0.000184  0.000737  0.001838 -0.002770   \n",
       "22493  0.000301 -0.000163  0.000508  0.000022  0.000022 -0.000122   \n",
       "22494  0.004398 -0.012664  0.003449 -0.001069  0.003691 -0.005105   \n",
       "22495 -0.003766 -0.003609 -0.001094 -0.006045 -0.014445  0.001031   \n",
       "\n",
       "       PRODUCT_TYPE_ID  \n",
       "0                 5994  \n",
       "1                  804  \n",
       "2                 1171  \n",
       "3                 3246  \n",
       "4                  811  \n",
       "...                ...  \n",
       "22491             6104  \n",
       "22492             1634  \n",
       "22493            12064  \n",
       "22494             1634  \n",
       "22495             6175  \n",
       "\n",
       "[22496 rows x 5001 columns]"
      ]
     },
     "execution_count": 35,
     "metadata": {},
     "output_type": "execute_result"
    }
   ],
   "source": [
    "df"
   ]
  },
  {
   "cell_type": "code",
   "execution_count": 68,
   "id": "485062a9",
   "metadata": {},
   "outputs": [
    {
     "data": {
      "text/plain": [
       "KNeighborsRegressor(n_jobs=-1)"
      ]
     },
     "execution_count": 68,
     "metadata": {},
     "output_type": "execute_result"
    }
   ],
   "source": [
    "from sklearn.neighbors import KNeighborsRegressor\n",
    "\n",
    "# create a KNN regression model with k = 5\n",
    "knn = KNeighborsRegressor(n_neighbors=5, n_jobs = -1)\n",
    "\n",
    "# train the model on the training data\n",
    "knn.fit(df, y)\n",
    "\n",
    "# use the model to make predictions on the test data\n",
    "# y_pred = knn.predict(X_test)\n"
   ]
  },
  {
   "cell_type": "code",
   "execution_count": 37,
   "id": "1c02a5b9",
   "metadata": {},
   "outputs": [],
   "source": [
    "df_test[\"T_BP_D\"].replace(np.nan, \"\", inplace = True)\n"
   ]
  },
  {
   "cell_type": "code",
   "execution_count": 38,
   "id": "cafa5b6b",
   "metadata": {},
   "outputs": [],
   "source": [
    "X_test_tbpd_tfidf = vectorizer.transform(df_test['T_BP_D'])"
   ]
  },
  {
   "cell_type": "code",
   "execution_count": 40,
   "id": "8b872b9f",
   "metadata": {},
   "outputs": [],
   "source": [
    "X_test_tbpd_tfidf = X_test_tbpd_tfidf.toarray()"
   ]
  },
  {
   "cell_type": "code",
   "execution_count": 41,
   "id": "4927bdd9",
   "metadata": {},
   "outputs": [],
   "source": [
    "s = time.time()\n",
    "\n",
    "X_pca_tbpd_test = pca.transform(X_test_tbpd_tfidf)\n",
    "e = time.time()\n",
    "print(str((e-s)/60), \"mins\")"
   ]
  },
  {
   "cell_type": "code",
   "execution_count": 42,
   "id": "1feb261b",
   "metadata": {},
   "outputs": [],
   "source": [
    "X_pca_tbpd_test = pd.DataFrame(X_pca_tbpd_test)"
   ]
  },
  {
   "cell_type": "code",
   "execution_count": 43,
   "id": "6f19de26",
   "metadata": {},
   "outputs": [],
   "source": [
    "pro_test = df_test[\"PRODUCT_TYPE_ID\"]"
   ]
  },
  {
   "cell_type": "code",
   "execution_count": 44,
   "id": "4095176c",
   "metadata": {},
   "outputs": [],
   "source": [
    "final_testing = pd.concat([pro_test, X_pca_tbpd_test], axis=1)"
   ]
  },
  {
   "cell_type": "code",
   "execution_count": 45,
   "id": "b555f6e3",
   "metadata": {},
   "outputs": [
    {
     "data": {
      "text/plain": [
       "(734736, 5001)"
      ]
     },
     "execution_count": 45,
     "metadata": {},
     "output_type": "execute_result"
    }
   ],
   "source": [
    "final_testing.shape"
   ]
  },
  {
   "cell_type": "code",
   "execution_count": 69,
   "id": "1707fad1",
   "metadata": {},
   "outputs": [
    {
     "name": "stdout",
     "output_type": "stream",
     "text": [
      "26.875272619724274 mins\n"
     ]
    }
   ],
   "source": [
    "s = time.time()\n",
    "\n",
    "predicted = knn.predict(final_testing)\n",
    "\n",
    "e = time.time()\n",
    "\n",
    "print(str((e-s)/60), \"mins\")"
   ]
  },
  {
   "cell_type": "code",
   "execution_count": 71,
   "id": "5f2ab119",
   "metadata": {},
   "outputs": [],
   "source": [
    "pro_test = df_test[\"PRODUCT_TYPE_ID\"]"
   ]
  },
  {
   "cell_type": "code",
   "execution_count": 72,
   "id": "f2c095cb",
   "metadata": {},
   "outputs": [],
   "source": [
    "predicted = pd.DataFrame(predicted)"
   ]
  },
  {
   "cell_type": "code",
   "execution_count": 73,
   "id": "7f10099d",
   "metadata": {},
   "outputs": [],
   "source": [
    "predicted.columns = [\"PRODUCT_LENGTH\"]"
   ]
  },
  {
   "cell_type": "code",
   "execution_count": 74,
   "id": "d816ba92",
   "metadata": {},
   "outputs": [
    {
     "data": {
      "text/plain": [
       "734736"
      ]
     },
     "execution_count": 74,
     "metadata": {},
     "output_type": "execute_result"
    }
   ],
   "source": [
    "len(df_test[\"PRODUCT_ID\"])"
   ]
  },
  {
   "cell_type": "code",
   "execution_count": 75,
   "id": "bfb47cb3",
   "metadata": {},
   "outputs": [],
   "source": [
    "pro_test = pd.DataFrame(pro_test)"
   ]
  },
  {
   "cell_type": "code",
   "execution_count": 76,
   "id": "b1e458c7",
   "metadata": {},
   "outputs": [
    {
     "data": {
      "text/plain": [
       "2"
      ]
     },
     "execution_count": 76,
     "metadata": {},
     "output_type": "execute_result"
    }
   ],
   "source": [
    "outputs = {'PRODUCT_ID': list(df_test[\"PRODUCT_ID\"]), 'PRODUCT_LENGTH': list(predicted[\"PRODUCT_LENGTH\"])}\n",
    "\n",
    "len(outputs)"
   ]
  },
  {
   "cell_type": "code",
   "execution_count": 77,
   "id": "8d5ae0d7",
   "metadata": {},
   "outputs": [],
   "source": [
    "outputs = pd.DataFrame(outputs)"
   ]
  },
  {
   "cell_type": "code",
   "execution_count": 78,
   "id": "b60b95de",
   "metadata": {},
   "outputs": [
    {
     "data": {
      "text/html": [
       "<div>\n",
       "<style scoped>\n",
       "    .dataframe tbody tr th:only-of-type {\n",
       "        vertical-align: middle;\n",
       "    }\n",
       "\n",
       "    .dataframe tbody tr th {\n",
       "        vertical-align: top;\n",
       "    }\n",
       "\n",
       "    .dataframe thead th {\n",
       "        text-align: right;\n",
       "    }\n",
       "</style>\n",
       "<table border=\"1\" class=\"dataframe\">\n",
       "  <thead>\n",
       "    <tr style=\"text-align: right;\">\n",
       "      <th></th>\n",
       "      <th>PRODUCT_ID</th>\n",
       "      <th>PRODUCT_LENGTH</th>\n",
       "    </tr>\n",
       "  </thead>\n",
       "  <tbody>\n",
       "    <tr>\n",
       "      <th>0</th>\n",
       "      <td>604373</td>\n",
       "      <td>531.990551</td>\n",
       "    </tr>\n",
       "    <tr>\n",
       "      <th>1</th>\n",
       "      <td>1729783</td>\n",
       "      <td>532.390551</td>\n",
       "    </tr>\n",
       "    <tr>\n",
       "      <th>2</th>\n",
       "      <td>1871949</td>\n",
       "      <td>531.990551</td>\n",
       "    </tr>\n",
       "    <tr>\n",
       "      <th>3</th>\n",
       "      <td>1107571</td>\n",
       "      <td>531.990551</td>\n",
       "    </tr>\n",
       "    <tr>\n",
       "      <th>4</th>\n",
       "      <td>624253</td>\n",
       "      <td>531.990551</td>\n",
       "    </tr>\n",
       "    <tr>\n",
       "      <th>...</th>\n",
       "      <td>...</td>\n",
       "      <td>...</td>\n",
       "    </tr>\n",
       "    <tr>\n",
       "      <th>734731</th>\n",
       "      <td>921419</td>\n",
       "      <td>531.990551</td>\n",
       "    </tr>\n",
       "    <tr>\n",
       "      <th>734732</th>\n",
       "      <td>2456362</td>\n",
       "      <td>565.200000</td>\n",
       "    </tr>\n",
       "    <tr>\n",
       "      <th>734733</th>\n",
       "      <td>841529</td>\n",
       "      <td>531.990551</td>\n",
       "    </tr>\n",
       "    <tr>\n",
       "      <th>734734</th>\n",
       "      <td>1190194</td>\n",
       "      <td>531.990551</td>\n",
       "    </tr>\n",
       "    <tr>\n",
       "      <th>734735</th>\n",
       "      <td>1040810</td>\n",
       "      <td>585.600000</td>\n",
       "    </tr>\n",
       "  </tbody>\n",
       "</table>\n",
       "<p>734736 rows × 2 columns</p>\n",
       "</div>"
      ],
      "text/plain": [
       "        PRODUCT_ID  PRODUCT_LENGTH\n",
       "0           604373      531.990551\n",
       "1          1729783      532.390551\n",
       "2          1871949      531.990551\n",
       "3          1107571      531.990551\n",
       "4           624253      531.990551\n",
       "...            ...             ...\n",
       "734731      921419      531.990551\n",
       "734732     2456362      565.200000\n",
       "734733      841529      531.990551\n",
       "734734     1190194      531.990551\n",
       "734735     1040810      585.600000\n",
       "\n",
       "[734736 rows x 2 columns]"
      ]
     },
     "execution_count": 78,
     "metadata": {},
     "output_type": "execute_result"
    }
   ],
   "source": [
    "outputs"
   ]
  },
  {
   "cell_type": "code",
   "execution_count": 79,
   "id": "4afb5c39",
   "metadata": {},
   "outputs": [],
   "source": [
    "outputs.to_csv(\"knn_m3_5nbrs.csv\")"
   ]
  },
  {
   "cell_type": "code",
   "execution_count": null,
   "id": "3a49df2b",
   "metadata": {},
   "outputs": [],
   "source": []
  },
  {
   "cell_type": "code",
   "execution_count": null,
   "id": "40e43a9f",
   "metadata": {},
   "outputs": [],
   "source": []
  }
 ],
 "metadata": {
  "kernelspec": {
   "display_name": "Python 3 (ipykernel)",
   "language": "python",
   "name": "python3"
  },
  "language_info": {
   "codemirror_mode": {
    "name": "ipython",
    "version": 3
   },
   "file_extension": ".py",
   "mimetype": "text/x-python",
   "name": "python",
   "nbconvert_exporter": "python",
   "pygments_lexer": "ipython3",
   "version": "3.8.10"
  }
 },
 "nbformat": 4,
 "nbformat_minor": 5
}
