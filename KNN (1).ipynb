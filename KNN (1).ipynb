{
  "nbformat": 4,
  "nbformat_minor": 0,
  "metadata": {
    "colab": {
      "provenance": []
    },
    "kernelspec": {
      "name": "python3",
      "display_name": "Python 3"
    },
    "language_info": {
      "name": "python"
    },
    "gpuClass": "standard"
  },
  "cells": [
    {
      "cell_type": "code",
      "execution_count": 2,
      "metadata": {
        "id": "d_smxUH_HuOS"
      },
      "outputs": [],
      "source": [
        "import numpy as np\n",
        "import pandas as pd\n",
        "from google.colab import drive\n",
        "import os\n",
        "import time\n",
        "import pandas as pd\n",
        "import numpy as np\n",
        "import re\n",
        "import matplotlib.pyplot as plt\n",
        "import nltk\n",
        "from nltk.corpus import stopwords\n",
        "from nltk.tokenize import word_tokenize\n",
        "import pandas as pd\n",
        "import time\n",
        "from sklearn.decomposition import PCA, KernelPCA\n",
        "from sklearn.feature_extraction.text import TfidfVectorizer\n",
        "from sklearn.neighbors import KNeighborsRegressor\n",
        "from sklearn.pipeline import Pipeline\n",
        "from sklearn.model_selection import train_test_split\n",
        "from sklearn.metrics import mean_squared_error\n",
        "import pandas as pd"
      ]
    },
    {
      "cell_type": "code",
      "source": [
        "drive.mount('/content/drive',force_remount = True)"
      ],
      "metadata": {
        "colab": {
          "base_uri": "https://localhost:8080/"
        },
        "id": "H0NvF5ZVI5m5",
        "outputId": "662948b8-3a02-4d27-df1a-12aac369e8e0"
      },
      "execution_count": 3,
      "outputs": [
        {
          "output_type": "stream",
          "name": "stdout",
          "text": [
            "Mounted at /content/drive\n"
          ]
        }
      ]
    },
    {
      "cell_type": "code",
      "source": [
        "train = pd.read_csv('/content/drive/MyDrive/My Folders/datasetb2d9982/train_lemmatized_sw.csv')\n",
        "test = pd.read_csv('/content/drive/MyDrive/My Folders/datasetb2d9982/test_processed.csv')"
      ],
      "metadata": {
        "id": "DMayw4WULeIY"
      },
      "execution_count": 4,
      "outputs": []
    },
    {
      "cell_type": "code",
      "source": [
        "\n",
        "#import gc\n",
        "#import pandas as pd\n",
        "\n",
        "#del(train)\n",
        "#gc.collect()"
      ],
      "metadata": {
        "colab": {
          "base_uri": "https://localhost:8080/"
        },
        "id": "WtGAvIa_avR2",
        "outputId": "29ca153c-10e7-4a41-b911-93bf9e1cd5b0"
      },
      "execution_count": 15,
      "outputs": [
        {
          "output_type": "execute_result",
          "data": {
            "text/plain": [
              "82"
            ]
          },
          "metadata": {},
          "execution_count": 15
        }
      ]
    },
    {
      "cell_type": "code",
      "source": [
        "train.head(2)"
      ],
      "metadata": {
        "colab": {
          "base_uri": "https://localhost:8080/",
          "height": 332
        },
        "id": "_LbfzCxONROt",
        "outputId": "42c11112-9c1a-4055-aeb8-c8e8f5d579fa"
      },
      "execution_count": 4,
      "outputs": [
        {
          "output_type": "execute_result",
          "data": {
            "text/plain": [
              "   Unnamed: 0.1  Unnamed: 0  PRODUCT_ID  \\\n",
              "0             0           0     1925202   \n",
              "1             1           1     2673191   \n",
              "\n",
              "                                               TITLE  \\\n",
              "0  artzfolio tulip flower blackout curtain door w...   \n",
              "1  mark spencer girls pyjama set t862561cnavy mix...   \n",
              "\n",
              "                                       BULLET_POINTS DESCRIPTION  \\\n",
              "0  luxurious appeal beautiful custommade curtain ...         NaN   \n",
              "1  harry potter hedwig pyjamas 616 yrs100 cotton ...         NaN   \n",
              "\n",
              "   PRODUCT_TYPE_ID  PRODUCT_LENGTH  \\\n",
              "0             1650         2125.98   \n",
              "1             2755          393.70   \n",
              "\n",
              "                                                T_BP  \\\n",
              "0  artzfolio tulip flower blackout curtain door w...   \n",
              "1  mark spencer girls pyjama set t862561cnavy mix...   \n",
              "\n",
              "                                              T_BP_D  \\\n",
              "0  artzfolio tulip flower blackout curtain door w...   \n",
              "1  mark spencer girls pyjama set t862561cnavy mix...   \n",
              "\n",
              "                                                 T_D  \\\n",
              "0  artzfolio tulip flower blackout curtain door w...   \n",
              "1  mark spencer girls pyjama set t862561cnavy mix...   \n",
              "\n",
              "                                                  F1  \n",
              "0  artzfolio tulip flower blackout curtain door w...  \n",
              "1  mark spencer girls pyjama set t862561cnavy mix...  "
            ],
            "text/html": [
              "\n",
              "  <div id=\"df-8cc0b429-f07d-421e-be9e-32c5f5032049\">\n",
              "    <div class=\"colab-df-container\">\n",
              "      <div>\n",
              "<style scoped>\n",
              "    .dataframe tbody tr th:only-of-type {\n",
              "        vertical-align: middle;\n",
              "    }\n",
              "\n",
              "    .dataframe tbody tr th {\n",
              "        vertical-align: top;\n",
              "    }\n",
              "\n",
              "    .dataframe thead th {\n",
              "        text-align: right;\n",
              "    }\n",
              "</style>\n",
              "<table border=\"1\" class=\"dataframe\">\n",
              "  <thead>\n",
              "    <tr style=\"text-align: right;\">\n",
              "      <th></th>\n",
              "      <th>Unnamed: 0.1</th>\n",
              "      <th>Unnamed: 0</th>\n",
              "      <th>PRODUCT_ID</th>\n",
              "      <th>TITLE</th>\n",
              "      <th>BULLET_POINTS</th>\n",
              "      <th>DESCRIPTION</th>\n",
              "      <th>PRODUCT_TYPE_ID</th>\n",
              "      <th>PRODUCT_LENGTH</th>\n",
              "      <th>T_BP</th>\n",
              "      <th>T_BP_D</th>\n",
              "      <th>T_D</th>\n",
              "      <th>F1</th>\n",
              "    </tr>\n",
              "  </thead>\n",
              "  <tbody>\n",
              "    <tr>\n",
              "      <th>0</th>\n",
              "      <td>0</td>\n",
              "      <td>0</td>\n",
              "      <td>1925202</td>\n",
              "      <td>artzfolio tulip flower blackout curtain door w...</td>\n",
              "      <td>luxurious appeal beautiful custommade curtain ...</td>\n",
              "      <td>NaN</td>\n",
              "      <td>1650</td>\n",
              "      <td>2125.98</td>\n",
              "      <td>artzfolio tulip flower blackout curtain door w...</td>\n",
              "      <td>artzfolio tulip flower blackout curtain door w...</td>\n",
              "      <td>artzfolio tulip flower blackout curtain door w...</td>\n",
              "      <td>artzfolio tulip flower blackout curtain door w...</td>\n",
              "    </tr>\n",
              "    <tr>\n",
              "      <th>1</th>\n",
              "      <td>1</td>\n",
              "      <td>1</td>\n",
              "      <td>2673191</td>\n",
              "      <td>mark spencer girls pyjama set t862561cnavy mix...</td>\n",
              "      <td>harry potter hedwig pyjamas 616 yrs100 cotton ...</td>\n",
              "      <td>NaN</td>\n",
              "      <td>2755</td>\n",
              "      <td>393.70</td>\n",
              "      <td>mark spencer girls pyjama set t862561cnavy mix...</td>\n",
              "      <td>mark spencer girls pyjama set t862561cnavy mix...</td>\n",
              "      <td>mark spencer girls pyjama set t862561cnavy mix...</td>\n",
              "      <td>mark spencer girls pyjama set t862561cnavy mix...</td>\n",
              "    </tr>\n",
              "  </tbody>\n",
              "</table>\n",
              "</div>\n",
              "      <button class=\"colab-df-convert\" onclick=\"convertToInteractive('df-8cc0b429-f07d-421e-be9e-32c5f5032049')\"\n",
              "              title=\"Convert this dataframe to an interactive table.\"\n",
              "              style=\"display:none;\">\n",
              "        \n",
              "  <svg xmlns=\"http://www.w3.org/2000/svg\" height=\"24px\"viewBox=\"0 0 24 24\"\n",
              "       width=\"24px\">\n",
              "    <path d=\"M0 0h24v24H0V0z\" fill=\"none\"/>\n",
              "    <path d=\"M18.56 5.44l.94 2.06.94-2.06 2.06-.94-2.06-.94-.94-2.06-.94 2.06-2.06.94zm-11 1L8.5 8.5l.94-2.06 2.06-.94-2.06-.94L8.5 2.5l-.94 2.06-2.06.94zm10 10l.94 2.06.94-2.06 2.06-.94-2.06-.94-.94-2.06-.94 2.06-2.06.94z\"/><path d=\"M17.41 7.96l-1.37-1.37c-.4-.4-.92-.59-1.43-.59-.52 0-1.04.2-1.43.59L10.3 9.45l-7.72 7.72c-.78.78-.78 2.05 0 2.83L4 21.41c.39.39.9.59 1.41.59.51 0 1.02-.2 1.41-.59l7.78-7.78 2.81-2.81c.8-.78.8-2.07 0-2.86zM5.41 20L4 18.59l7.72-7.72 1.47 1.35L5.41 20z\"/>\n",
              "  </svg>\n",
              "      </button>\n",
              "      \n",
              "  <style>\n",
              "    .colab-df-container {\n",
              "      display:flex;\n",
              "      flex-wrap:wrap;\n",
              "      gap: 12px;\n",
              "    }\n",
              "\n",
              "    .colab-df-convert {\n",
              "      background-color: #E8F0FE;\n",
              "      border: none;\n",
              "      border-radius: 50%;\n",
              "      cursor: pointer;\n",
              "      display: none;\n",
              "      fill: #1967D2;\n",
              "      height: 32px;\n",
              "      padding: 0 0 0 0;\n",
              "      width: 32px;\n",
              "    }\n",
              "\n",
              "    .colab-df-convert:hover {\n",
              "      background-color: #E2EBFA;\n",
              "      box-shadow: 0px 1px 2px rgba(60, 64, 67, 0.3), 0px 1px 3px 1px rgba(60, 64, 67, 0.15);\n",
              "      fill: #174EA6;\n",
              "    }\n",
              "\n",
              "    [theme=dark] .colab-df-convert {\n",
              "      background-color: #3B4455;\n",
              "      fill: #D2E3FC;\n",
              "    }\n",
              "\n",
              "    [theme=dark] .colab-df-convert:hover {\n",
              "      background-color: #434B5C;\n",
              "      box-shadow: 0px 1px 3px 1px rgba(0, 0, 0, 0.15);\n",
              "      filter: drop-shadow(0px 1px 2px rgba(0, 0, 0, 0.3));\n",
              "      fill: #FFFFFF;\n",
              "    }\n",
              "  </style>\n",
              "\n",
              "      <script>\n",
              "        const buttonEl =\n",
              "          document.querySelector('#df-8cc0b429-f07d-421e-be9e-32c5f5032049 button.colab-df-convert');\n",
              "        buttonEl.style.display =\n",
              "          google.colab.kernel.accessAllowed ? 'block' : 'none';\n",
              "\n",
              "        async function convertToInteractive(key) {\n",
              "          const element = document.querySelector('#df-8cc0b429-f07d-421e-be9e-32c5f5032049');\n",
              "          const dataTable =\n",
              "            await google.colab.kernel.invokeFunction('convertToInteractive',\n",
              "                                                     [key], {});\n",
              "          if (!dataTable) return;\n",
              "\n",
              "          const docLinkHtml = 'Like what you see? Visit the ' +\n",
              "            '<a target=\"_blank\" href=https://colab.research.google.com/notebooks/data_table.ipynb>data table notebook</a>'\n",
              "            + ' to learn more about interactive tables.';\n",
              "          element.innerHTML = '';\n",
              "          dataTable['output_type'] = 'display_data';\n",
              "          await google.colab.output.renderOutput(dataTable, element);\n",
              "          const docLink = document.createElement('div');\n",
              "          docLink.innerHTML = docLinkHtml;\n",
              "          element.appendChild(docLink);\n",
              "        }\n",
              "      </script>\n",
              "    </div>\n",
              "  </div>\n",
              "  "
            ]
          },
          "metadata": {},
          "execution_count": 4
        }
      ]
    },
    {
      "cell_type": "code",
      "source": [
        "test.head(2)"
      ],
      "metadata": {
        "colab": {
          "base_uri": "https://localhost:8080/",
          "height": 277
        },
        "id": "-G3PeFFuSOnv",
        "outputId": "5b7d9ea5-13f0-4718-fa9d-006a02595595"
      },
      "execution_count": 5,
      "outputs": [
        {
          "output_type": "execute_result",
          "data": {
            "text/plain": [
              "   Unnamed: 0  PRODUCT_ID                                              TITLE  \\\n",
              "0           0      604373  manuel dheliogravure et de photogravure en rel...   \n",
              "1           1     1729783  dcgaring microfiber throw blanket warm fuzzy p...   \n",
              "\n",
              "                                       BULLET_POINTS  \\\n",
              "0                                                NaN   \n",
              "1  quality guarantee luxury cozy plush polyester ...   \n",
              "\n",
              "                                         DESCRIPTION  PRODUCT_TYPE_ID  \\\n",
              "0                                                NaN             6142   \n",
              "1  dcgaring throw blanket size chart w x l twin s...             1622   \n",
              "\n",
              "                                                T_BP  \\\n",
              "0  manuel dheliogravure et de photogravure en rel...   \n",
              "1  dcgaring microfiber throw blanket warm fuzzy p...   \n",
              "\n",
              "                                              T_BP_D  \\\n",
              "0  manuel dheliogravure et de photogravure en rel...   \n",
              "1  dcgaring microfiber throw blanket warm fuzzy p...   \n",
              "\n",
              "                                                 T_D  \n",
              "0  manuel dheliogravure et de photogravure en rel...  \n",
              "1  dcgaring microfiber throw blanket warm fuzzy p...  "
            ],
            "text/html": [
              "\n",
              "  <div id=\"df-32b3881d-53ab-44d8-8a9d-4259f46879e9\">\n",
              "    <div class=\"colab-df-container\">\n",
              "      <div>\n",
              "<style scoped>\n",
              "    .dataframe tbody tr th:only-of-type {\n",
              "        vertical-align: middle;\n",
              "    }\n",
              "\n",
              "    .dataframe tbody tr th {\n",
              "        vertical-align: top;\n",
              "    }\n",
              "\n",
              "    .dataframe thead th {\n",
              "        text-align: right;\n",
              "    }\n",
              "</style>\n",
              "<table border=\"1\" class=\"dataframe\">\n",
              "  <thead>\n",
              "    <tr style=\"text-align: right;\">\n",
              "      <th></th>\n",
              "      <th>Unnamed: 0</th>\n",
              "      <th>PRODUCT_ID</th>\n",
              "      <th>TITLE</th>\n",
              "      <th>BULLET_POINTS</th>\n",
              "      <th>DESCRIPTION</th>\n",
              "      <th>PRODUCT_TYPE_ID</th>\n",
              "      <th>T_BP</th>\n",
              "      <th>T_BP_D</th>\n",
              "      <th>T_D</th>\n",
              "    </tr>\n",
              "  </thead>\n",
              "  <tbody>\n",
              "    <tr>\n",
              "      <th>0</th>\n",
              "      <td>0</td>\n",
              "      <td>604373</td>\n",
              "      <td>manuel dheliogravure et de photogravure en rel...</td>\n",
              "      <td>NaN</td>\n",
              "      <td>NaN</td>\n",
              "      <td>6142</td>\n",
              "      <td>manuel dheliogravure et de photogravure en rel...</td>\n",
              "      <td>manuel dheliogravure et de photogravure en rel...</td>\n",
              "      <td>manuel dheliogravure et de photogravure en rel...</td>\n",
              "    </tr>\n",
              "    <tr>\n",
              "      <th>1</th>\n",
              "      <td>1</td>\n",
              "      <td>1729783</td>\n",
              "      <td>dcgaring microfiber throw blanket warm fuzzy p...</td>\n",
              "      <td>quality guarantee luxury cozy plush polyester ...</td>\n",
              "      <td>dcgaring throw blanket size chart w x l twin s...</td>\n",
              "      <td>1622</td>\n",
              "      <td>dcgaring microfiber throw blanket warm fuzzy p...</td>\n",
              "      <td>dcgaring microfiber throw blanket warm fuzzy p...</td>\n",
              "      <td>dcgaring microfiber throw blanket warm fuzzy p...</td>\n",
              "    </tr>\n",
              "  </tbody>\n",
              "</table>\n",
              "</div>\n",
              "      <button class=\"colab-df-convert\" onclick=\"convertToInteractive('df-32b3881d-53ab-44d8-8a9d-4259f46879e9')\"\n",
              "              title=\"Convert this dataframe to an interactive table.\"\n",
              "              style=\"display:none;\">\n",
              "        \n",
              "  <svg xmlns=\"http://www.w3.org/2000/svg\" height=\"24px\"viewBox=\"0 0 24 24\"\n",
              "       width=\"24px\">\n",
              "    <path d=\"M0 0h24v24H0V0z\" fill=\"none\"/>\n",
              "    <path d=\"M18.56 5.44l.94 2.06.94-2.06 2.06-.94-2.06-.94-.94-2.06-.94 2.06-2.06.94zm-11 1L8.5 8.5l.94-2.06 2.06-.94-2.06-.94L8.5 2.5l-.94 2.06-2.06.94zm10 10l.94 2.06.94-2.06 2.06-.94-2.06-.94-.94-2.06-.94 2.06-2.06.94z\"/><path d=\"M17.41 7.96l-1.37-1.37c-.4-.4-.92-.59-1.43-.59-.52 0-1.04.2-1.43.59L10.3 9.45l-7.72 7.72c-.78.78-.78 2.05 0 2.83L4 21.41c.39.39.9.59 1.41.59.51 0 1.02-.2 1.41-.59l7.78-7.78 2.81-2.81c.8-.78.8-2.07 0-2.86zM5.41 20L4 18.59l7.72-7.72 1.47 1.35L5.41 20z\"/>\n",
              "  </svg>\n",
              "      </button>\n",
              "      \n",
              "  <style>\n",
              "    .colab-df-container {\n",
              "      display:flex;\n",
              "      flex-wrap:wrap;\n",
              "      gap: 12px;\n",
              "    }\n",
              "\n",
              "    .colab-df-convert {\n",
              "      background-color: #E8F0FE;\n",
              "      border: none;\n",
              "      border-radius: 50%;\n",
              "      cursor: pointer;\n",
              "      display: none;\n",
              "      fill: #1967D2;\n",
              "      height: 32px;\n",
              "      padding: 0 0 0 0;\n",
              "      width: 32px;\n",
              "    }\n",
              "\n",
              "    .colab-df-convert:hover {\n",
              "      background-color: #E2EBFA;\n",
              "      box-shadow: 0px 1px 2px rgba(60, 64, 67, 0.3), 0px 1px 3px 1px rgba(60, 64, 67, 0.15);\n",
              "      fill: #174EA6;\n",
              "    }\n",
              "\n",
              "    [theme=dark] .colab-df-convert {\n",
              "      background-color: #3B4455;\n",
              "      fill: #D2E3FC;\n",
              "    }\n",
              "\n",
              "    [theme=dark] .colab-df-convert:hover {\n",
              "      background-color: #434B5C;\n",
              "      box-shadow: 0px 1px 3px 1px rgba(0, 0, 0, 0.15);\n",
              "      filter: drop-shadow(0px 1px 2px rgba(0, 0, 0, 0.3));\n",
              "      fill: #FFFFFF;\n",
              "    }\n",
              "  </style>\n",
              "\n",
              "      <script>\n",
              "        const buttonEl =\n",
              "          document.querySelector('#df-32b3881d-53ab-44d8-8a9d-4259f46879e9 button.colab-df-convert');\n",
              "        buttonEl.style.display =\n",
              "          google.colab.kernel.accessAllowed ? 'block' : 'none';\n",
              "\n",
              "        async function convertToInteractive(key) {\n",
              "          const element = document.querySelector('#df-32b3881d-53ab-44d8-8a9d-4259f46879e9');\n",
              "          const dataTable =\n",
              "            await google.colab.kernel.invokeFunction('convertToInteractive',\n",
              "                                                     [key], {});\n",
              "          if (!dataTable) return;\n",
              "\n",
              "          const docLinkHtml = 'Like what you see? Visit the ' +\n",
              "            '<a target=\"_blank\" href=https://colab.research.google.com/notebooks/data_table.ipynb>data table notebook</a>'\n",
              "            + ' to learn more about interactive tables.';\n",
              "          element.innerHTML = '';\n",
              "          dataTable['output_type'] = 'display_data';\n",
              "          await google.colab.output.renderOutput(dataTable, element);\n",
              "          const docLink = document.createElement('div');\n",
              "          docLink.innerHTML = docLinkHtml;\n",
              "          element.appendChild(docLink);\n",
              "        }\n",
              "      </script>\n",
              "    </div>\n",
              "  </div>\n",
              "  "
            ]
          },
          "metadata": {},
          "execution_count": 5
        }
      ]
    },
    {
      "cell_type": "code",
      "source": [
        "train[\"T_BP_D\"].replace(np.nan, \"\", inplace=True)\n",
        "test[\"T_BP_D\"].replace(np.nan, \"\", inplace=True)\n",
        "del train['Unnamed: 0']\n",
        "del test['Unnamed: 0']"
      ],
      "metadata": {
        "id": "hXgvBf6eNDGs"
      },
      "execution_count": 6,
      "outputs": []
    },
    {
      "cell_type": "code",
      "source": [
        "import pandas as pd\n",
        "from sklearn.utils import resample\n",
        "# Load the dataset\n",
        "# Separate the column with 19k entries\n",
        "col = train['T_BP_D']\n",
        "# Sample 50% of the column while preserving the distribution\n",
        "sampled_col = resample(col, n_samples=0.01*len(col), random_state=25, stratify=col)\n",
        "# Get the indices of the sampled entries\n",
        "indices = sampled_col.index\n",
        "# Sample the original dataframe based on the indices\n",
        "sampled_df = train.loc[indices]"
      ],
      "metadata": {
        "id": "RU2C9ALtNJaf"
      },
      "execution_count": 7,
      "outputs": []
    },
    {
      "cell_type": "code",
      "source": [
        "X_train = sampled_df.copy()\n",
        "X_test = test.copy()"
      ],
      "metadata": {
        "id": "52guyFvaSmp-"
      },
      "execution_count": 19,
      "outputs": []
    },
    {
      "cell_type": "code",
      "source": [
        "X_train.shape, X_test.shape"
      ],
      "metadata": {
        "colab": {
          "base_uri": "https://localhost:8080/"
        },
        "id": "SFmemtLUS2mv",
        "outputId": "0b86114a-723e-475c-bb80-1cd40bbd74c4"
      },
      "execution_count": 20,
      "outputs": [
        {
          "output_type": "execute_result",
          "data": {
            "text/plain": [
              "((22496, 11), (734736, 8))"
            ]
          },
          "metadata": {},
          "execution_count": 20
        }
      ]
    },
    {
      "cell_type": "code",
      "source": [
        "y = X_train['PRODUCT_LENGTH']"
      ],
      "metadata": {
        "id": "iaSulFIHNrGR"
      },
      "execution_count": 21,
      "outputs": []
    },
    {
      "cell_type": "code",
      "source": [
        "del X_train['Unnamed: 0.1']\n",
        "del X_train['F1']"
      ],
      "metadata": {
        "id": "O4IUcPJRZSxi"
      },
      "execution_count": 22,
      "outputs": []
    },
    {
      "cell_type": "code",
      "source": [
        "X_train.head()"
      ],
      "metadata": {
        "colab": {
          "base_uri": "https://localhost:8080/",
          "height": 406
        },
        "id": "rj9jm3lXZgvZ",
        "outputId": "1d5d72b2-102a-4edc-f65d-6270f590b484"
      },
      "execution_count": 23,
      "outputs": [
        {
          "output_type": "execute_result",
          "data": {
            "text/plain": [
              "         PRODUCT_ID                                              TITLE  \\\n",
              "1817326     2404128  craqlin girls tafeta satin semi stittched lehe...   \n",
              "416024       782766                                       great divide   \n",
              "864789      1668532  tailgate pros light cornhole board 4x2 3x2 cor...   \n",
              "2181824     2027563  san frissco men genuine leather bruce black ta...   \n",
              "1964118      829214                                               song   \n",
              "\n",
              "                                             BULLET_POINTS  \\\n",
              "1817326  fabric matirial composition always add 100 clo...   \n",
              "416024                                                 NaN   \n",
              "864789   solid wood construction regualtion size board ...   \n",
              "2181824  san frissco mens casual loafersupper material ...   \n",
              "1964118                                                NaN   \n",
              "\n",
              "                                               DESCRIPTION  PRODUCT_TYPE_ID  \\\n",
              "1817326  shop wide range beautifully craft kid lehenga ...             5994   \n",
              "416024                                                 NaN              804   \n",
              "864789   tailgate pros cornhole set include two regulat...             1171   \n",
              "2181824  bruce black tassel loafers handcraft italian l...             3246   \n",
              "1964118                                                NaN              811   \n",
              "\n",
              "         PRODUCT_LENGTH                                               T_BP  \\\n",
              "1817326     1200.000000  craqlin girls tafeta satin semi stittched lehe...   \n",
              "416024       550.000000                                       great divide   \n",
              "864789      4800.000000  tailgate pros light cornhole board 4x2 3x2 cor...   \n",
              "2181824     1299.212597  san frissco men genuine leather bruce black ta...   \n",
              "1964118      572.000000                                               song   \n",
              "\n",
              "                                                    T_BP_D  \\\n",
              "1817326  craqlin girls tafeta satin semi stittched lehe...   \n",
              "416024                                        great divide   \n",
              "864789   tailgate pros light cornhole board 4x2 3x2 cor...   \n",
              "2181824  san frissco men genuine leather bruce black ta...   \n",
              "1964118                                               song   \n",
              "\n",
              "                                                       T_D  \n",
              "1817326  craqlin girls tafeta satin semi stittched lehe...  \n",
              "416024                                        great divide  \n",
              "864789   tailgate pros light cornhole board 4x2 3x2 cor...  \n",
              "2181824  san frissco men genuine leather bruce black ta...  \n",
              "1964118                                               song  "
            ],
            "text/html": [
              "\n",
              "  <div id=\"df-73e7da4c-1ddf-4e92-b5e1-d00cac6872c8\">\n",
              "    <div class=\"colab-df-container\">\n",
              "      <div>\n",
              "<style scoped>\n",
              "    .dataframe tbody tr th:only-of-type {\n",
              "        vertical-align: middle;\n",
              "    }\n",
              "\n",
              "    .dataframe tbody tr th {\n",
              "        vertical-align: top;\n",
              "    }\n",
              "\n",
              "    .dataframe thead th {\n",
              "        text-align: right;\n",
              "    }\n",
              "</style>\n",
              "<table border=\"1\" class=\"dataframe\">\n",
              "  <thead>\n",
              "    <tr style=\"text-align: right;\">\n",
              "      <th></th>\n",
              "      <th>PRODUCT_ID</th>\n",
              "      <th>TITLE</th>\n",
              "      <th>BULLET_POINTS</th>\n",
              "      <th>DESCRIPTION</th>\n",
              "      <th>PRODUCT_TYPE_ID</th>\n",
              "      <th>PRODUCT_LENGTH</th>\n",
              "      <th>T_BP</th>\n",
              "      <th>T_BP_D</th>\n",
              "      <th>T_D</th>\n",
              "    </tr>\n",
              "  </thead>\n",
              "  <tbody>\n",
              "    <tr>\n",
              "      <th>1817326</th>\n",
              "      <td>2404128</td>\n",
              "      <td>craqlin girls tafeta satin semi stittched lehe...</td>\n",
              "      <td>fabric matirial composition always add 100 clo...</td>\n",
              "      <td>shop wide range beautifully craft kid lehenga ...</td>\n",
              "      <td>5994</td>\n",
              "      <td>1200.000000</td>\n",
              "      <td>craqlin girls tafeta satin semi stittched lehe...</td>\n",
              "      <td>craqlin girls tafeta satin semi stittched lehe...</td>\n",
              "      <td>craqlin girls tafeta satin semi stittched lehe...</td>\n",
              "    </tr>\n",
              "    <tr>\n",
              "      <th>416024</th>\n",
              "      <td>782766</td>\n",
              "      <td>great divide</td>\n",
              "      <td>NaN</td>\n",
              "      <td>NaN</td>\n",
              "      <td>804</td>\n",
              "      <td>550.000000</td>\n",
              "      <td>great divide</td>\n",
              "      <td>great divide</td>\n",
              "      <td>great divide</td>\n",
              "    </tr>\n",
              "    <tr>\n",
              "      <th>864789</th>\n",
              "      <td>1668532</td>\n",
              "      <td>tailgate pros light cornhole board 4x2 3x2 cor...</td>\n",
              "      <td>solid wood construction regualtion size board ...</td>\n",
              "      <td>tailgate pros cornhole set include two regulat...</td>\n",
              "      <td>1171</td>\n",
              "      <td>4800.000000</td>\n",
              "      <td>tailgate pros light cornhole board 4x2 3x2 cor...</td>\n",
              "      <td>tailgate pros light cornhole board 4x2 3x2 cor...</td>\n",
              "      <td>tailgate pros light cornhole board 4x2 3x2 cor...</td>\n",
              "    </tr>\n",
              "    <tr>\n",
              "      <th>2181824</th>\n",
              "      <td>2027563</td>\n",
              "      <td>san frissco men genuine leather bruce black ta...</td>\n",
              "      <td>san frissco mens casual loafersupper material ...</td>\n",
              "      <td>bruce black tassel loafers handcraft italian l...</td>\n",
              "      <td>3246</td>\n",
              "      <td>1299.212597</td>\n",
              "      <td>san frissco men genuine leather bruce black ta...</td>\n",
              "      <td>san frissco men genuine leather bruce black ta...</td>\n",
              "      <td>san frissco men genuine leather bruce black ta...</td>\n",
              "    </tr>\n",
              "    <tr>\n",
              "      <th>1964118</th>\n",
              "      <td>829214</td>\n",
              "      <td>song</td>\n",
              "      <td>NaN</td>\n",
              "      <td>NaN</td>\n",
              "      <td>811</td>\n",
              "      <td>572.000000</td>\n",
              "      <td>song</td>\n",
              "      <td>song</td>\n",
              "      <td>song</td>\n",
              "    </tr>\n",
              "  </tbody>\n",
              "</table>\n",
              "</div>\n",
              "      <button class=\"colab-df-convert\" onclick=\"convertToInteractive('df-73e7da4c-1ddf-4e92-b5e1-d00cac6872c8')\"\n",
              "              title=\"Convert this dataframe to an interactive table.\"\n",
              "              style=\"display:none;\">\n",
              "        \n",
              "  <svg xmlns=\"http://www.w3.org/2000/svg\" height=\"24px\"viewBox=\"0 0 24 24\"\n",
              "       width=\"24px\">\n",
              "    <path d=\"M0 0h24v24H0V0z\" fill=\"none\"/>\n",
              "    <path d=\"M18.56 5.44l.94 2.06.94-2.06 2.06-.94-2.06-.94-.94-2.06-.94 2.06-2.06.94zm-11 1L8.5 8.5l.94-2.06 2.06-.94-2.06-.94L8.5 2.5l-.94 2.06-2.06.94zm10 10l.94 2.06.94-2.06 2.06-.94-2.06-.94-.94-2.06-.94 2.06-2.06.94z\"/><path d=\"M17.41 7.96l-1.37-1.37c-.4-.4-.92-.59-1.43-.59-.52 0-1.04.2-1.43.59L10.3 9.45l-7.72 7.72c-.78.78-.78 2.05 0 2.83L4 21.41c.39.39.9.59 1.41.59.51 0 1.02-.2 1.41-.59l7.78-7.78 2.81-2.81c.8-.78.8-2.07 0-2.86zM5.41 20L4 18.59l7.72-7.72 1.47 1.35L5.41 20z\"/>\n",
              "  </svg>\n",
              "      </button>\n",
              "      \n",
              "  <style>\n",
              "    .colab-df-container {\n",
              "      display:flex;\n",
              "      flex-wrap:wrap;\n",
              "      gap: 12px;\n",
              "    }\n",
              "\n",
              "    .colab-df-convert {\n",
              "      background-color: #E8F0FE;\n",
              "      border: none;\n",
              "      border-radius: 50%;\n",
              "      cursor: pointer;\n",
              "      display: none;\n",
              "      fill: #1967D2;\n",
              "      height: 32px;\n",
              "      padding: 0 0 0 0;\n",
              "      width: 32px;\n",
              "    }\n",
              "\n",
              "    .colab-df-convert:hover {\n",
              "      background-color: #E2EBFA;\n",
              "      box-shadow: 0px 1px 2px rgba(60, 64, 67, 0.3), 0px 1px 3px 1px rgba(60, 64, 67, 0.15);\n",
              "      fill: #174EA6;\n",
              "    }\n",
              "\n",
              "    [theme=dark] .colab-df-convert {\n",
              "      background-color: #3B4455;\n",
              "      fill: #D2E3FC;\n",
              "    }\n",
              "\n",
              "    [theme=dark] .colab-df-convert:hover {\n",
              "      background-color: #434B5C;\n",
              "      box-shadow: 0px 1px 3px 1px rgba(0, 0, 0, 0.15);\n",
              "      filter: drop-shadow(0px 1px 2px rgba(0, 0, 0, 0.3));\n",
              "      fill: #FFFFFF;\n",
              "    }\n",
              "  </style>\n",
              "\n",
              "      <script>\n",
              "        const buttonEl =\n",
              "          document.querySelector('#df-73e7da4c-1ddf-4e92-b5e1-d00cac6872c8 button.colab-df-convert');\n",
              "        buttonEl.style.display =\n",
              "          google.colab.kernel.accessAllowed ? 'block' : 'none';\n",
              "\n",
              "        async function convertToInteractive(key) {\n",
              "          const element = document.querySelector('#df-73e7da4c-1ddf-4e92-b5e1-d00cac6872c8');\n",
              "          const dataTable =\n",
              "            await google.colab.kernel.invokeFunction('convertToInteractive',\n",
              "                                                     [key], {});\n",
              "          if (!dataTable) return;\n",
              "\n",
              "          const docLinkHtml = 'Like what you see? Visit the ' +\n",
              "            '<a target=\"_blank\" href=https://colab.research.google.com/notebooks/data_table.ipynb>data table notebook</a>'\n",
              "            + ' to learn more about interactive tables.';\n",
              "          element.innerHTML = '';\n",
              "          dataTable['output_type'] = 'display_data';\n",
              "          await google.colab.output.renderOutput(dataTable, element);\n",
              "          const docLink = document.createElement('div');\n",
              "          docLink.innerHTML = docLinkHtml;\n",
              "          element.appendChild(docLink);\n",
              "        }\n",
              "      </script>\n",
              "    </div>\n",
              "  </div>\n",
              "  "
            ]
          },
          "metadata": {},
          "execution_count": 23
        }
      ]
    },
    {
      "cell_type": "code",
      "source": [
        "print('Hello')"
      ],
      "metadata": {
        "colab": {
          "base_uri": "https://localhost:8080/"
        },
        "id": "V2_f0SYHaYiN",
        "outputId": "bcc8be36-76d0-468b-c70d-b5eee7c8c381"
      },
      "execution_count": 24,
      "outputs": [
        {
          "output_type": "stream",
          "name": "stdout",
          "text": [
            "Hello\n"
          ]
        }
      ]
    },
    {
      "cell_type": "code",
      "source": [
        "from sklearn.feature_extraction.text import TfidfVectorizer\n",
        "\n",
        "# Create an instance of TfidfVectorizer\n",
        "s = time.time()\n",
        "vectorizer = TfidfVectorizer(lowercase = True, max_features=20000, stop_words='english', ngram_range=(1,4))\n",
        "X_train_tbpd_tfidf = vectorizer.fit_transform(X_train['T_BP_D'])\n",
        "#X_test_tbpd_tfidf = vectorizer.transform(X_test['T_BP_D'])\n",
        "e = time.time()\n",
        "print(str((e-s)/60) + \" mins\")\n",
        "X_train_tbpd_tfidf = X_train_tbpd_tfidf.toarray()"
      ],
      "metadata": {
        "colab": {
          "base_uri": "https://localhost:8080/"
        },
        "id": "A5FoTJ0FSC4G",
        "outputId": "0f1e8ed9-5362-4286-8720-73a1c74a97d2"
      },
      "execution_count": 25,
      "outputs": [
        {
          "output_type": "stream",
          "name": "stdout",
          "text": [
            "0.1783463438351949 mins\n"
          ]
        }
      ]
    },
    {
      "cell_type": "code",
      "source": [
        "s = time.time()\n",
        "\n",
        "pca = PCA(n_components = 5000)\n",
        "X_pca_tbpd = pca.fit_transform(X_train_tbpd_tfidf)\n",
        "#X_pca_tbpd_test = pca.transform(X_test_tbpd_tfidf)\n",
        "# Print the explained variance ratio for normal PCA\n",
        "print(\"Explained Variance Ratio (Normal PCA): \", pca.explained_variance_ratio_)\n",
        "e = time.time()\n",
        "print(str((e-s)/60) + \" mins\")\n",
        "print(sum(pca.explained_variance_ratio_))"
      ],
      "metadata": {
        "id": "bko2U688TGvo"
      },
      "execution_count": null,
      "outputs": []
    },
    {
      "cell_type": "code",
      "source": [
        "X_pca_tbpd = pd.DataFrame(X_pca_tbpd)\n",
        "product_ids = X_train['PRODUCT_TYPE_ID']\n",
        "final_df = pd.DataFrame(X_pca_tbpd)\n",
        "pro_df = pd.DataFrame(product_ids)\n",
        "final_df.shape, pro_df.shape\n",
        "pro_df = pro_df.reset_index()\n",
        "df= pd.concat([final_df, pro_df], axis = 1)"
      ],
      "metadata": {
        "id": "hCAMlSL4TTXp"
      },
      "execution_count": null,
      "outputs": []
    },
    {
      "cell_type": "code",
      "source": [
        "del df['index']\n",
        "df.shape"
      ],
      "metadata": {
        "id": "htkVfhO3TtnI"
      },
      "execution_count": null,
      "outputs": []
    },
    {
      "cell_type": "code",
      "source": [
        "# data standardization with  sklearn\n",
        "from sklearn.preprocessing import StandardScaler\n",
        "\n",
        "# copy of datasets\n",
        "X_train_stand = df.copy()\n",
        "#X_test_stand = X_test.copy()\n",
        "# numerical features\n",
        "scale = StandardScaler().fit(X_train_stand['PRODUCT_TYPE_ID'])  \n",
        "# transform the training data column\n",
        "X_train_stand = scale.transform(X_train_stand['PRODUCT_TYPE_ID'])\n",
        "# transform the testing data column\n",
        "#X_test_stand = scale.transform(X_test_stand['PRODUCT_TYPE_ID'])"
      ],
      "metadata": {
        "id": "J21rluVhTyB5"
      },
      "execution_count": null,
      "outputs": []
    },
    {
      "cell_type": "code",
      "source": [
        "df"
      ],
      "metadata": {
        "id": "SDRIWX5kTxP2"
      },
      "execution_count": null,
      "outputs": []
    },
    {
      "cell_type": "code",
      "source": [
        "X_train_stand.head"
      ],
      "metadata": {
        "id": "COoKMK3HUx-y"
      },
      "execution_count": null,
      "outputs": []
    },
    {
      "cell_type": "code",
      "source": [
        "from sklearn.neighbors import KNeighborsRegressor\n",
        "\n",
        "# create a KNN regression model with k = 5\n",
        "knn = KNeighborsRegressor(n_neighbors=5, n_jobs = -1)\n",
        "\n",
        "# train the model on the training data\n",
        "knn.fit(X_train_stand, y)\n",
        "\n",
        "# use the model to make predictions on the test data\n",
        "# y_pred = knn.predict(X_test)"
      ],
      "metadata": {
        "id": "4w6rH4b2LjXE"
      },
      "execution_count": null,
      "outputs": []
    },
    {
      "cell_type": "code",
      "source": [
        "from sklearn.model_selection import GridSearchCV\n",
        "from sklearn.grid_search import RandomizedSearchCV\n",
        "from sklearn.neighbors import KNeighborsRegressor\n",
        "#specify \"parameter distribution\" rather than \"parame\n",
        "k_range=range(1,26)\n",
        "parameters = {'n_neighbors':[8,10,15,25,30] , \"n_jobs\" : [-1]}\n",
        "knn = KNeighborsRegressor()\n",
        "param_grid=dict(n_neighbors=k_range)\n",
        "options=['uniform', 'distance']\n",
        "param_dist = dict(n_neighbors=k_range, weights=options)\n",
        "clf = GridSearchCV(knn, parameters,verbose=2)\n",
        "grid = GridSearchCV(knn, param_grid, cv=10, scoring='accuracy')\n",
        "grid.fit(X_train_stand,y)"
      ],
      "metadata": {
        "id": "khgLDeM_VIpq"
      },
      "execution_count": null,
      "outputs": []
    },
    {
      "cell_type": "code",
      "source": [
        "print(grid.best_score_)\n",
        "print(grid.best_params_)\n",
        "print(grid.best_estimator_)"
      ],
      "metadata": {
        "id": "gPZ91cOZXBVz"
      },
      "execution_count": null,
      "outputs": []
    },
    {
      "cell_type": "code",
      "source": [
        "rand = RandomizedSearchCV(knn, param_grid, cv=10, scoring='accuracy', n_iter=10, random_state=5)\n",
        "rand.fit(X_train_stand, y)\n",
        "rand.grid_scores_"
      ],
      "metadata": {
        "id": "k84LdMh-Wdg1"
      },
      "execution_count": null,
      "outputs": []
    },
    {
      "cell_type": "code",
      "source": [
        "print(rand.best_score_)\n",
        "print(rand.best_params_)"
      ],
      "metadata": {
        "id": "xghAuU7tXHi8"
      },
      "execution_count": null,
      "outputs": []
    },
    {
      "cell_type": "code",
      "source": [
        "best_scores=[]\n",
        "for i in range(20):\n",
        "    rand = RandomizedSearchCV(knn, param_dist, cv=10, scoring='accuracy', n_iter=10)\n",
        "    rand.fit(X_train_stand, y)\n",
        "    best_scores.append(round(rand.best_score_,3))\n",
        "print(best_score)"
      ],
      "metadata": {
        "id": "xgM_jmP2XK57"
      },
      "execution_count": null,
      "outputs": []
    },
    {
      "cell_type": "markdown",
      "source": [
        "## Stacking"
      ],
      "metadata": {
        "id": "0Y5hgGQfcyko"
      }
    },
    {
      "cell_type": "code",
      "source": [
        "train = pd.read_csv('/content/drive/MyDrive/My Folders/datasetb2d9982/train_lemmatized_sw.csv')\n",
        "test = pd.read_csv('/content/drive/MyDrive/My Folders/datasetb2d9982/test_processed.csv')"
      ],
      "metadata": {
        "id": "Pt4s3rEccyDE"
      },
      "execution_count": null,
      "outputs": []
    },
    {
      "cell_type": "code",
      "source": [
        "train[\"T_BP_D\"].replace(np.nan, \"\", inplace=True)\n",
        "test[\"T_BP_D\"].replace(np.nan, \"\", inplace=True)\n",
        "del train['Unnamed: 0']\n",
        "del test['Unnamed: 0']"
      ],
      "metadata": {
        "id": "bWejoeLZdAIq"
      },
      "execution_count": 5,
      "outputs": []
    },
    {
      "cell_type": "code",
      "source": [
        "import pandas as pd\n",
        "from sklearn.utils import resample\n",
        "# Load the dataset\n",
        "# Separate the column with 19k entries\n",
        "col = train['T_BP_D']\n",
        "# Sample 50% of the column while preserving the distribution\n",
        "sampled_col = resample(col, n_samples=0.01*len(col), random_state=25, stratify=col)\n",
        "# Get the indices of the sampled entries\n",
        "indices = sampled_col.index\n",
        "# Sample the original dataframe based on the indices\n",
        "sampled_df = train.loc[indices]"
      ],
      "metadata": {
        "id": "E4AzrqFxdK3-"
      },
      "execution_count": 6,
      "outputs": []
    },
    {
      "cell_type": "code",
      "source": [
        "knn_10 = pd.read_csv('/content/drive/MyDrive/My Folders/datasetb2d9982/knn_10.csv')\n",
        "knn_30 = pd.read_csv('/content/drive/MyDrive/My Folders/datasetb2d9982/knn_30.csv')\n",
        "knn_7 = pd.read_csv('/content/drive/MyDrive/My Folders/datasetb2d9982/knn_7.csv')"
      ],
      "metadata": {
        "id": "MxkYGFONdUwz"
      },
      "execution_count": 7,
      "outputs": []
    },
    {
      "cell_type": "code",
      "source": [
        "sampled_df"
      ],
      "metadata": {
        "id": "JHfnRAD2dt_h"
      },
      "execution_count": null,
      "outputs": []
    },
    {
      "cell_type": "code",
      "source": [
        "X_train = sampled_df.copy()\n",
        "X_test = test.copy()"
      ],
      "metadata": {
        "id": "C6GM5wDTdTy-"
      },
      "execution_count": null,
      "outputs": []
    },
    {
      "cell_type": "code",
      "source": [
        "import pandas as pd\n",
        "\n",
        "df1 = pd.DataFrame({'A': [1, 2, 3], 'B': [4, 5, 6]}, index=[0, 1, 2])\n",
        "df2 = pd.DataFrame({'C': [7, 8, 9], 'D': [10, 11, 12]}, index=[1, 2, 3])\n",
        "\n",
        "merged_df = df1.join(df2, how='inner')"
      ],
      "metadata": {
        "id": "BXxUpV5ffsaY"
      },
      "execution_count": 7,
      "outputs": []
    },
    {
      "cell_type": "code",
      "source": [
        "sampled_df"
      ],
      "metadata": {
        "id": "-2OhJdsXfsvx"
      },
      "execution_count": null,
      "outputs": []
    },
    {
      "cell_type": "code",
      "source": [
        "from sklearn.feature_extraction.text import TfidfVectorizer\n",
        "\n",
        "# Create an instance of TfidfVectorizer\n",
        "s = time.time()\n",
        "vectorizer = TfidfVectorizer(lowercase = True, max_features=20000, stop_words='english', ngram_range=(1,4))\n",
        "X_train_tbpd_tfidf = vectorizer.fit_transform(X_train['T_BP_D'])\n",
        "#X_test_tbpd_tfidf = vectorizer.transform(X_test['T_BP_D'])\n",
        "e = time.time()\n",
        "print(str((e-s)/60) + \" mins\")\n",
        "X_train_tbpd_tfidf = X_train_tbpd_tfidf.toarray()"
      ],
      "metadata": {
        "id": "bmh4L77JfvNc"
      },
      "execution_count": null,
      "outputs": []
    },
    {
      "cell_type": "code",
      "source": [
        "s = time.time()\n",
        "\n",
        "pca = PCA(n_components = 5000)\n",
        "X_pca_tbpd = pca.fit_transform(X_train_tbpd_tfidf)\n",
        "#X_pca_tbpd_test = pca.transform(X_test_tbpd_tfidf)\n",
        "# Print the explained variance ratio for normal PCA\n",
        "print(\"Explained Variance Ratio (Normal PCA): \", pca.explained_variance_ratio_)\n",
        "e = time.time()\n",
        "print(str((e-s)/60) + \" mins\")\n",
        "print(sum(pca.explained_variance_ratio_))"
      ],
      "metadata": {
        "id": "Tp4uVXdFhPyE"
      },
      "execution_count": null,
      "outputs": []
    },
    {
      "cell_type": "code",
      "source": [
        "X_pca_tbpd = pd.DataFrame(X_pca_tbpd)\n",
        "product_ids = X_train['PRODUCT_TYPE_ID']\n",
        "final_df = pd.DataFrame(X_pca_tbpd)\n",
        "pro_df = pd.DataFrame(product_ids)\n",
        "final_df.shape, pro_df.shape\n",
        "pro_df = pro_df.reset_index()\n",
        "df= pd.concat([final_df, pro_df], axis = 1)"
      ],
      "metadata": {
        "id": "JhOhREk9hTOu"
      },
      "execution_count": null,
      "outputs": []
    },
    {
      "cell_type": "code",
      "source": [
        "# data standardization with  sklearn\n",
        "from sklearn.preprocessing import StandardScaler\n",
        "\n",
        "# copy of datasets\n",
        "X_train_stand = df.copy()\n",
        "#X_test_stand = X_test.copy()\n",
        "# numerical features\n",
        "scale = StandardScaler().fit(X_train_stand['PRODUCT_TYPE_ID'])  \n",
        "# transform the training data column\n",
        "X_train_stand = scale.transform(X_train_stand['PRODUCT_TYPE_ID'])\n",
        "# transform the testing data column\n",
        "#X_test_stand = scale.transform(X_test_stand['PRODUCT_TYPE_ID'])"
      ],
      "metadata": {
        "id": "uDfRIStAhZ0G"
      },
      "execution_count": null,
      "outputs": []
    },
    {
      "cell_type": "code",
      "source": [
        "merged_df = X_train_stand.join(knn_10, how='inner')\n",
        "merged_df2 = merged_df.join(knn_30, how='inner')\n",
        "merged_df3 = merged_df2.join(knn_7, how='inner')"
      ],
      "metadata": {
        "id": "lU5PacdEhb2v"
      },
      "execution_count": null,
      "outputs": []
    },
    {
      "cell_type": "code",
      "source": [
        "y = X_train['PRODUCT_LENGTH']"
      ],
      "metadata": {
        "id": "o6Ex-wIbiCBw"
      },
      "execution_count": null,
      "outputs": []
    },
    {
      "cell_type": "code",
      "source": [
        "from sklearn.neighbors import KNeighborsRegressor\n",
        "\n",
        "# create a KNN regression model with k = 5\n",
        "knn = KNeighborsRegressor(n_neighbors=5, n_jobs = -1)\n",
        "\n",
        "# train the model on the training data\n",
        "knn.fit(merged_df3, y)\n",
        "\n",
        "# use the model to make predictions on the test data\n",
        "# y_pred = knn.predict(X_test)"
      ],
      "metadata": {
        "id": "Km_bNbh9h4v8"
      },
      "execution_count": null,
      "outputs": []
    }
  ]
}